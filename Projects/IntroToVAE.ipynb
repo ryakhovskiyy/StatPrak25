{
 "cells": [
  {
   "cell_type": "markdown",
   "metadata": {
    "id": "9G6Nx8OuUKBH"
   },
   "source": [
    "# Введение в Вариационные Автоэнкодеры (VAE) на PyTorch\n",
    "\n",
    "*Проект выполнен студентом 331 группы Ряховским Алексеем*\n",
    "\n",
    "Этот ноутбук представляет собой подробное введение в вариационные автоэнкодеры (VAE). Я расскажу теоретические основы, математику, реализуем VAE с использованием PyTorch и обучим его на классическом наборе данных MNIST (рукописные цифры).\n",
    "\n",
    "**Цели:**\n",
    "1.  Объяснить концепцию **стандартных автоэнкодеров (AE)** как основу.\n",
    "2.  Подробно разобрать **теорию VAE**: зачем они нужны, как работают, их математические основы (ELBO, репараметризационный трюк, KL-дивергенция).\n",
    "3.  Реализовать модель VAE на **PyTorch**.\n",
    "4.  Обучить VAE на данных **MNIST**.\n",
    "5.  Продемонстрировать возможности VAE: реконструкция, визуализация латентного пространства, генерация новых данных.\n",
    "\n",
    "<img src=\"images/1.png\" alt=\"Мое изображение\" style=\"display: block; margin-left: auto; margin-right: auto; width: 600px;\">"
   ]
  },
  {
   "cell_type": "code",
   "execution_count": 5,
   "metadata": {
    "id": "Y_yrb7bfUfpL"
   },
   "outputs": [],
   "source": [
    "# Импорт необходимых библиотек\n",
    "import torch\n",
    "import torch.nn as nn\n",
    "import torch.optim as optim\n",
    "import torch.nn.functional as F\n",
    "from torch.utils.data import DataLoader\n",
    "import torchvision.datasets as datasets\n",
    "import torchvision.transforms as transforms\n",
    "from torchvision.utils import save_image, make_grid\n",
    "\n",
    "import numpy as np\n",
    "import matplotlib.pyplot as plt\n",
    "from sklearn.manifold import TSNE\n",
    "import os\n",
    "\n",
    "import warnings\n",
    "warnings.filterwarnings(\"ignore\")\n",
    "\n",
    "# Для воспроизводимости результатов\n",
    "torch.manual_seed(42)\n",
    "np.random.seed(42)\n",
    "\n",
    "# Создаем папку для сохранения результатов (сгенерированных картинок)\n",
    "sample_dir = 'samples_vae'\n",
    "if not os.path.exists(sample_dir):\n",
    "    os.makedirs(sample_dir)"
   ]
  },
  {
   "cell_type": "markdown",
   "metadata": {
    "id": "A86xbjx4U1FS"
   },
   "source": [
    "## 1. Теория - От Автоэнкодеров (AE) к Вариационным Автоэнкодерам (VAE)\n",
    "\n",
    "### Что такое Автоэнкодер (AE)?\n",
    "\n",
    "Прежде чем погрузиться в VAE, давайте вспомним (или узнаем) про **стандартные (или базовые) автоэнкодеры (AE)**.\n",
    "\n",
    "**Цель AE:** Научиться сжимать данные (например, изображение) в представление меньшей размерности (латентный код) и затем восстанавливать (реконструировать) исходные данные из этого сжатого представления с минимальными потерями.\n",
    "\n",
    "**Структура AE:**\n",
    "1.  **Энкодер (Encoder):** Нейронная сеть, которая принимает входные данные $x$ и преобразует их в латентный код $z$ ($z = \\text{Encoder}(x)$). Обычно $z$ имеет гораздо меньшую размерность, чем $x$.\n",
    "2.  **Латентное пространство (Latent Space):** Пространство, в котором существуют векторы $z$. Его размерность - это \"узкое горлышко\" (bottleneck) автоэнкодера.\n",
    "3.  **Декодер (Decoder):** Нейронная сеть, которая принимает латентный код $z$ и пытается восстановить исходные данные $\\hat{x}$ ($\\hat{x} = \\text{Decoder}(z)$).\n",
    "\n",
    "**Обучение AE:**\n",
    "Модель обучается минимизировать **ошибку реконструкции** - разницу между исходным входом $x$ и восстановленным выходом $\\hat{x}$. В качестве функции потерь часто используют среднеквадратичную ошибку (Mean Squared Error, MSE) или бинарную кросс-энтропию (Binary Cross-Entropy, BCE).\n",
    "\n",
    "Формула ошибки реконструкции для Среднеквадратичной Ошибки (MSE):\n",
    "\n",
    "$$ \\large L_{AE} = ||x - \\hat{x}||^2$$\n",
    "\n",
    "Формула ошибки реконструкции для Бинарной Кросс-Энтропии (BCE):\n",
    "\n",
    "$$ \\large L_{AE} = -\\sum_{i} [x_i \\log(\\hat{x}_i) + (1-x_i) \\log(1-\\hat{x}_i)]$$\n",
    "\n",
    "**Проблема AE для генерации:**\n",
    "Хотя AE хороши для сжатия и извлечения признаков, они **плохо подходят для генерации новых данных**. Проблема в том, что латентное пространство $z$ у AE обычно не имеет \"хорошей\" структуры. Если мы возьмем случайную точку $z$ из латентного пространства и подадим ее в декодер, результат $\\hat{x}$ скорее всего будет бессмысленным шумом. Латентное пространство может быть \"разреженным\", с \"дырами\", и модель не знает, как интерполировать между известными кодами $z$.\n",
    "\n",
    "### Вариационный Автоэнкодер (VAE): Идея\n",
    "\n",
    "VAE решает проблему генерации, делая автоэнкодер **вероятностным**.\n",
    "\n",
    "**Ключевое отличие:** Вместо того, чтобы энкодер отображал вход $x$ в *одну* точку $z$ в латентном пространстве, VAE энкодер отображает $x$ в **параметры вероятностного распределения** в латентном пространстве. Обычно это многомерное Гауссово распределение (нормальное распределение), которое характеризуется двумя векторами:\n",
    "* **Среднее (mean):** $\\mu$\n",
    "* **Логарифм вариации (log-variance):** $\\log \\sigma^2$ (используют логарифм для численной стабильности)\n",
    "\n",
    "То есть, $\\text{Encoder}(x) = (\\mu, \\log \\sigma^2)$. Это распределение $q(z|x)$ - наша *аппроксимация* истинного, но неизвестного апостериорного распределения $p(z|x)$.\n",
    "\n",
    "**Сэмплирование из латентного пространства:**\n",
    "Чтобы получить конкретный латентный вектор $z$ для данного $x$, мы **сэмплируем** его из распределения $\\mathcal{N}(\\mu, \\sigma^2)$, параметры которого выдал энкодер. $z \\sim q(z|x) = \\mathcal{N}(z | \\mu, \\sigma^2)$.\n",
    "\n",
    "**Декодер VAE:**\n",
    "Работает так же, как в AE: принимает латентный вектор $z$ и генерирует реконструированный выход $\\hat{x}$. $\\hat{x} = \\text{Decoder}(z)$. Декодер определяет распределение $p(x|z)$.\n",
    "\n",
    "### Репараметризационный Трюк (Reparameterization Trick)\n",
    "\n",
    "Возникает проблема: процесс сэмплирования $z \\sim \\mathcal{N}(\\mu, \\sigma^2)$ является **стохастическим (случайным)**. Стандартные методы обратного распространения ошибки (backpropagation) не могут проходить через случайные узлы. Как же обучать энкодер, если градиент не может \"добраться\" до $\\mu$ и $\\log \\sigma^2$?\n",
    "\n",
    "На помощь приходит **репараметризационный трюк**. Идея в том, чтобы выразить случайный сэмпл $z$ как **детерминированную функцию** параметров распределения ($\\mu, \\sigma^2$) и **независимой случайной переменной** $\\epsilon$, имеющей фиксированное распределение (обычно стандартное нормальное $\\mathcal{N}(0, I)$).\n",
    "\n",
    "Для Гауссова случая:\n",
    "$z = \\mu + \\sigma \\cdot \\epsilon = \\mu + \\exp(0.5 \\cdot \\log \\sigma^2) \\cdot \\epsilon$\n",
    "где $\\epsilon \\sim \\mathcal{N}(0, I)$.\n",
    "\n",
    "Теперь случайность \"вынесена\" в $\\epsilon$. Путь от $\\mu$ и $\\log \\sigma^2$ к $z$ становится детерминированным и, следовательно, **дифференцируемым**. Градиенты могут спокойно проходить через эту операцию к параметрам энкодера.\n",
    "\n",
    "<img src=\"images/2.png\" alt=\"Схема Репараметризационного Трюка\" style=\"display: block; margin-left: auto; margin-right: auto; width: 500px;\">\n",
    "\n",
    "### Функция Потерь VAE (ELBO)\n",
    "\n",
    "Так как, VAE - это генеративная модель. В идеале, мы хотим максимизировать правдоподобие данных $p(x)$ по всем возможным латентным переменным $z$: $$ \\large p(x) = \\int p(x|z) p(z) dz$$ где $p(z)$ - это априорное распределение латентных переменных (обычно $\\mathcal{N}(0, I)$), а $p(x|z)$ - правдоподобие данных при заданном $z$ (моделируется декодером). Этот интеграл обычно неразрешим аналитически.\n",
    "\n",
    "VAE используют подход вариационного вывода. Вместо максимизации $p(x)$ напрямую, максимизируется его **нижняя оценка правдоподобия (Evidence Lower Bound, ELBO)**:\n",
    "<br>$$\\large \\log p(x) \\ge \\text{ELBO} = \\mathbb{E}_{q(z|x)}[\\log p(x|z)] - D_{KL}(q(z|x) || p(z))$$\n",
    "\n",
    "<br>Максимизация ELBO эквивалентна минимизации **отрицательного ELBO**, которое и используется как функция потерь VAE:\n",
    "<br>$$\\large L_{VAE} = -\\text{ELBO} = \\underbrace{-\\mathbb{E}_{q(z|x)}[\\log p(x|z)]}_{\\text{Ошибка Реконструкции}} + \\underbrace{D_{KL}(q(z|x) || p(z))}_{\\text{KL-дивергенция}}$$\n",
    "\n",
    "Разберем компоненты:\n",
    "\n",
    "1.  **Ошибка Реконструкции (Reconstruction Loss):** $ \\large -\\mathbb{E}_{q(z|x)}[\\log p(x|z)]$\n",
    "    * Это ожидаемое (среднее) отрицательное логарифмическое правдоподобие реконструкции. Оно измеряет, насколько хорошо декодер ($p(x|z)$) восстанавливает входные данные $x$ после того, как они были закодированы ($q(z|x)$) и сэмплированы ($z$).\n",
    "    * На практике, для одного сэмпла $z$ из $q(z|x)$ для данного $x$, это просто $-\\log p(x|z)$.\n",
    "    * Если мы предполагаем, что пиксели изображения $x$ независимы и имеют распределение Бернулли (вероятность быть белым = $\\hat{x}_i$), то этот член превращается в **Бинарную Кросс-Энтропию (BCE)** между $x$ и $\\hat{x} = \\text{Decoder}(z)$.\n",
    "    * Если предположить Гауссово распределение $p(x|z)$, то получится **Среднеквадратичная Ошибка (MSE)**. Для MNIST с пикселями в [0, 1] обычно используют BCE.\n",
    "    * Формула BCE: $ L_{recon} = -\\sum_{i=1}^{D} [x_i \\log(\\hat{x}_i) + (1-x_i) \\log(1-\\hat{x}_i)]$, где $D$ - размерность $x$.<br>\n",
    "    `\n",
    "2.  **KL-дивергенция (Kullback–Leibler Divergence):** $\\large D_{KL}(q(z|x) || p(z))$\n",
    "\n",
    "    * Это мера \"расстояния\" или \"различия\" между распределением, которое выдает энкодер ($q(z|x) = \\mathcal{N}(\\mu, \\sigma^2)$), и априорным распределением ($p(z) = \\mathcal{N}(0, I)$).\n",
    "    * Этот член действует как **регуляризатор**. Он заставляет энкодер генерировать распределения $q(z|x)$, близкие к стандартному нормальному. Это нужно для двух вещей:\n",
    "        * **Организация латентного пространства:** Чтобы пространство было \"заполнено\" и точки для похожих $x$ были близки.\n",
    "        * **Возможность генерации:** Чтобы мы могли сэмплировать $z$ напрямую из $p(z) = \\mathcal{N}(0, I)$ и получать осмысленные результаты от декодера.\n",
    "    * Для двух Гауссовых распределений $q(z|x) = \\mathcal{N}(\\mu, \\sigma^2)$ и $p(z) = \\mathcal{N}(0, I)$, <br> KL-дивергенция вычисляется аналитически:\n",
    "        $$ \\large D_{KL} = -0.5 \\sum_{j=1}^{J} (1 + \\log(\\sigma_j^2) - \\mu_j^2 - \\sigma_j^2)$$\n",
    "        где $J$ - размерность латентного пространства, $\\mu_j$ и $\\sigma_j^2$ - компоненты векторов $\\mu$ и $\\sigma^2$.\n",
    "\n",
    "**Итог:** VAE обучается одновременно хорошо реконструировать данные и поддерживать структуру латентного пространства близкой к стандартному нормальному распределению. Это позволяет ему не только сжимать данные, но и генерировать новые."
   ]
  },
  {
   "cell_type": "markdown",
   "metadata": {
    "id": "8liXpjBuV7dh"
   },
   "source": [
    "## 2. Загрузка и подготовка данных MNIST (PyTorch)\n",
    "\n",
    "Используем `torchvision` для загрузки MNIST. Применим преобразования:\n",
    "1.  `ToTensor()`: Конвертирует NumPy массив (H x W x C) в `torch.FloatTensor` (C x H x W) и масштабирует значения пикселей в диапазон `[0.0, 1.0]`.\n",
    "2.  `Flatten()`: Преобразует тензор изображения (1 x 28 x 28) в вектор (784). (Мы добавим это позже в модели или в цикле обучения).\n",
    "Мы также создадим `DataLoader` для удобной работы с батчами."
   ]
  },
  {
   "cell_type": "code",
   "execution_count": 8,
   "metadata": {
    "id": "dtzuSSr5V8Hl"
   },
   "outputs": [
    {
     "name": "stdout",
     "output_type": "stream",
     "text": [
      "Using device: cuda\n"
     ]
    }
   ],
   "source": [
    "# Параметры данных и обучения\n",
    "batch_size = 128\n",
    "image_size = 28*28 # 784\n",
    "z_dim = 56          # Размерность латентного пространства \n",
    "learning_rate = 1e-3\n",
    "image_channels = 1\n",
    "\n",
    "# Загрузка MNIST\n",
    "dataset = datasets.MNIST(root='data',\n",
    "                         train=True,\n",
    "                         transform=transforms.ToTensor(), # Преобразует в тензор и [0,1]\n",
    "                         download=True)\n",
    "\n",
    "data_loader = DataLoader(dataset=dataset,\n",
    "                         batch_size=batch_size,\n",
    "                         shuffle=True)\n",
    "\n",
    "# Пример батча\n",
    "# data_iter = iter(data_loader)\n",
    "# images, labels = next(data_iter)\n",
    "# print('Tensor shape:', images.shape) # torch.Size([128, 1, 28, 28])\n",
    "# print('Min pixel value:', images.min())\n",
    "# print('Max pixel value:', images.max())\n",
    "\n",
    "# Определяем устройство (GPU если доступно, иначе CPU)\n",
    "device = torch.device('cuda' if torch.cuda.is_available() else 'cpu')\n",
    "print(f\"Using device: {device}\")"
   ]
  },
  {
   "cell_type": "markdown",
   "metadata": {
    "id": "KyXc6ozGWEVW"
   },
   "source": [
    "## 3. Построение модели VAE (PyTorch)\n",
    "\n",
    "Создадим класс `VAE`, наследуемый от `torch.nn.Module`. Он будет содержать:\n",
    "* Энкодер: Несколько полносвязных слоев (`nn.Linear`) с ReLU активацией. Последний слой разделится на два для вывода $\\mu$ и $\\log \\sigma^2$.\n",
    "* Функцию репараметризации.\n",
    "* Декодер: Несколько полносвязных слоев с ReLU, и последний слой с Sigmoid активацией, чтобы выходные пиксели были в диапазоне [0, 1]."
   ]
  },
  {
   "cell_type": "code",
   "execution_count": 26,
   "metadata": {
    "id": "D6_pihIZWMLY"
   },
   "outputs": [
    {
     "name": "stdout",
     "output_type": "stream",
     "text": [
      "Создание модели и оптимизатора...\n",
      "--- Структура Модели ---\n",
      "ConvVAE(\n",
      "  (encoder): Sequential(\n",
      "    (0): Conv2d(1, 64, kernel_size=(4, 4), stride=(2, 2), padding=(1, 1))\n",
      "    (1): BatchNorm2d(64, eps=1e-05, momentum=0.1, affine=True, track_running_stats=True)\n",
      "    (2): LeakyReLU(negative_slope=0.2, inplace=True)\n",
      "    (3): Conv2d(64, 128, kernel_size=(4, 4), stride=(2, 2), padding=(1, 1))\n",
      "    (4): BatchNorm2d(128, eps=1e-05, momentum=0.1, affine=True, track_running_stats=True)\n",
      "    (5): LeakyReLU(negative_slope=0.2, inplace=True)\n",
      "    (6): Conv2d(128, 256, kernel_size=(3, 3), stride=(2, 2))\n",
      "    (7): BatchNorm2d(256, eps=1e-05, momentum=0.1, affine=True, track_running_stats=True)\n",
      "    (8): LeakyReLU(negative_slope=0.2, inplace=True)\n",
      "    (9): Conv2d(256, 512, kernel_size=(3, 3), stride=(1, 1))\n",
      "    (10): BatchNorm2d(512, eps=1e-05, momentum=0.1, affine=True, track_running_stats=True)\n",
      "    (11): LeakyReLU(negative_slope=0.2, inplace=True)\n",
      "    (12): Flatten(start_dim=1, end_dim=-1)\n",
      "  )\n",
      "  (fc_mu): Linear(in_features=512, out_features=56, bias=True)\n",
      "  (fc_logvar): Linear(in_features=512, out_features=56, bias=True)\n",
      "  (decoder_fc): Linear(in_features=56, out_features=512, bias=True)\n",
      "  (decoder): Sequential(\n",
      "    (0): ConvTranspose2d(512, 256, kernel_size=(3, 3), stride=(1, 1))\n",
      "    (1): BatchNorm2d(256, eps=1e-05, momentum=0.1, affine=True, track_running_stats=True)\n",
      "    (2): LeakyReLU(negative_slope=0.2, inplace=True)\n",
      "    (3): ConvTranspose2d(256, 128, kernel_size=(3, 3), stride=(2, 2), output_padding=(1, 1))\n",
      "    (4): BatchNorm2d(128, eps=1e-05, momentum=0.1, affine=True, track_running_stats=True)\n",
      "    (5): LeakyReLU(negative_slope=0.2, inplace=True)\n",
      "    (6): ConvTranspose2d(128, 64, kernel_size=(4, 4), stride=(2, 2), padding=(1, 1))\n",
      "    (7): BatchNorm2d(64, eps=1e-05, momentum=0.1, affine=True, track_running_stats=True)\n",
      "    (8): LeakyReLU(negative_slope=0.2, inplace=True)\n",
      "    (9): ConvTranspose2d(64, 1, kernel_size=(4, 4), stride=(2, 2), padding=(3, 3))\n",
      "    (10): Sigmoid()\n",
      "  )\n",
      ")\n",
      "------------------------\n",
      "Модель и оптимизатор созданы.\n"
     ]
    }
   ],
   "source": [
    "#  Определение Модели ConvVAE \n",
    "class ConvVAE(nn.Module):\n",
    "    def __init__(self, image_channels=1, z_dim=32):\n",
    "        super(ConvVAE, self).__init__()\n",
    "        self.z_dim = z_dim\n",
    "        # Количество каналов после последнего сверточного слоя энкодера\n",
    "        self.encoder_output_channels = 512\n",
    "        # Размер выхода энкодера после Flatten (т.к. выход 1x1)\n",
    "        self.encoder_output_flat_size = self.encoder_output_channels\n",
    "\n",
    "        self.encoder = nn.Sequential(\n",
    "            # Input: (N, 1, 28, 28)\n",
    "            nn.Conv2d(image_channels, 64, kernel_size=4, stride=2, padding=1), # -> (N, 64, 14, 14)\n",
    "            nn.BatchNorm2d(64),\n",
    "            nn.LeakyReLU(0.2, inplace=True),\n",
    "            nn.Conv2d(64, 128, kernel_size=4, stride=2, padding=1), # -> (N, 128, 7, 7)\n",
    "            nn.BatchNorm2d(128),\n",
    "            nn.LeakyReLU(0.2, inplace=True),\n",
    "            nn.Conv2d(128, 256, kernel_size=3, stride=2, padding=0), # K=3,S=2,P=0: 7 -> 3 -> (N, 256, 3, 3)\n",
    "            nn.BatchNorm2d(256),\n",
    "            nn.LeakyReLU(0.2, inplace=True),\n",
    "            nn.Conv2d(256, self.encoder_output_channels, kernel_size=3, stride=1, padding=0), # K=3,S=1,P=0: 3 -> 1 -> (N, output_channels, 1, 1)\n",
    "            nn.BatchNorm2d(self.encoder_output_channels),\n",
    "            nn.LeakyReLU(0.2, inplace=True),\n",
    "            nn.Flatten() # -> (N, 512)\n",
    "        )\n",
    "\n",
    "        self.fc_mu = nn.Linear(self.encoder_output_flat_size, z_dim)\n",
    "        self.fc_logvar = nn.Linear(self.encoder_output_flat_size, z_dim)\n",
    "        self.decoder_fc = nn.Linear(z_dim, self.encoder_output_flat_size)\n",
    "\n",
    "        self.decoder = nn.Sequential(\n",
    "            # Reshape до (N, 512, 1, 1) происходит в методе decode\n",
    "            nn.ConvTranspose2d(self.encoder_output_channels, 256, kernel_size=3, stride=1, padding=0), # K3,S1,P0: 1->3 -> (N, 256, 3, 3)\n",
    "            nn.BatchNorm2d(256),\n",
    "            nn.LeakyReLU(0.2, inplace=True),\n",
    "            nn.ConvTranspose2d(256, 128, kernel_size=3, stride=2, padding=0, output_padding=1), # K3,S2,P0,OP1: 3->7 -> (N, 128, 7, 7)\n",
    "            nn.BatchNorm2d(128),\n",
    "            nn.LeakyReLU(0.2, inplace=True),\n",
    "            nn.ConvTranspose2d(128, 64, kernel_size=4, stride=2, padding=1), # K4,S2,P1: 7->14 -> (N, 64, 14, 14)\n",
    "            nn.BatchNorm2d(64),\n",
    "            nn.LeakyReLU(0.2, inplace=True),\n",
    "            nn.ConvTranspose2d(64, image_channels, kernel_size=4, stride=2, padding=3), # K4,S2,P1: 14->28 -> (N, 1, 28, 28)\n",
    "            nn.Sigmoid() # Выходные пиксели в [0, 1]\n",
    "        )\n",
    "\n",
    "    def encode(self, x):\n",
    "        h = self.encoder(x)\n",
    "        mu = self.fc_mu(h)\n",
    "        log_var = self.fc_logvar(h)\n",
    "        return mu, log_var\n",
    "\n",
    "    def reparameterize(self, mu, log_var):\n",
    "        std = torch.exp(0.5 * log_var)\n",
    "        eps = torch.randn_like(std)\n",
    "        return mu + eps * std\n",
    "\n",
    "    def decode(self, z):\n",
    "        h = self.decoder_fc(z)\n",
    "        h = h.view(-1, self.encoder_output_channels, 1, 1) # Reshape перед ConvTranspose2d\n",
    "        x_reconstructed = self.decoder(h)\n",
    "        return x_reconstructed\n",
    "\n",
    "    def forward(self, x):\n",
    "        mu, log_var = self.encode(x)\n",
    "        z = self.reparameterize(mu, log_var)\n",
    "        x_reconstructed = self.decode(z)\n",
    "        return x_reconstructed, mu, log_var\n",
    "\n",
    "# Функция Потерь\n",
    "def loss_function(recon_x, x, mu, log_var):\n",
    "    # BCE требует выпрямленных входов одинакового размера\n",
    "    BCE = F.binary_cross_entropy(recon_x.view(-1, 1*28*28),\n",
    "                                 x.view(-1, 1*28*28),\n",
    "                                 reduction='sum')\n",
    "    # KL дивергенция\n",
    "    KLD = -0.5 * torch.sum(1 + log_var - mu.pow(2) - log_var.exp())\n",
    "    return BCE + KLD\n",
    "\n",
    "\n",
    "# Создание Модели и Оптимизатора\n",
    "print(\"Создание модели и оптимизатора...\")\n",
    "model = ConvVAE(image_channels=image_channels, z_dim=z_dim).to(device)\n",
    "optimizer = optim.Adam(model.parameters(), lr=learning_rate)\n",
    "print(\"--- Структура Модели ---\")\n",
    "print(model)\n",
    "print(\"------------------------\")\n",
    "print(\"Модель и оптимизатор созданы.\")\n"
   ]
  },
  {
   "cell_type": "markdown",
   "metadata": {
    "id": "ifIQSdLEWN_h"
   },
   "source": [
    "## 4. Обучение модели VAE (PyTorch)\n",
    "\n",
    "Теперь напишем цикл обучения. На каждой эпохе мы будем итерироваться по `DataLoader`, выполнять прямой проход, вычислять потери, выполнять обратное распространение ошибки и обновлять веса модели."
   ]
  },
  {
   "cell_type": "code",
   "execution_count": 27,
   "metadata": {
    "id": "6PWtt1dWWQdL"
   },
   "outputs": [
    {
     "name": "stdout",
     "output_type": "stream",
     "text": [
      "Запуск обучения на 25 эпох...\n",
      "Эпоха [1/25], Шаг [100/469], Потеря: 136.1427\n",
      "Эпоха [1/25], Шаг [200/469], Потеря: 118.4309\n",
      "Эпоха [1/25], Шаг [300/469], Потеря: 112.6411\n",
      "Эпоха [1/25], Шаг [400/469], Потеря: 111.8181\n",
      "====> Эпоха: 1 Средняя потеря: 132.9386\n",
      "Эпоха [2/25], Шаг [100/469], Потеря: 112.8600\n",
      "Эпоха [2/25], Шаг [200/469], Потеря: 109.0790\n",
      "Эпоха [2/25], Шаг [300/469], Потеря: 106.4518\n",
      "Эпоха [2/25], Шаг [400/469], Потеря: 109.9538\n",
      "====> Эпоха: 2 Средняя потеря: 108.9775\n",
      "Эпоха [3/25], Шаг [100/469], Потеря: 108.3000\n",
      "Эпоха [3/25], Шаг [200/469], Потеря: 106.1323\n",
      "Эпоха [3/25], Шаг [300/469], Потеря: 106.6198\n",
      "Эпоха [3/25], Шаг [400/469], Потеря: 113.0718\n",
      "====> Эпоха: 3 Средняя потеря: 106.3076\n",
      "Эпоха [4/25], Шаг [100/469], Потеря: 103.7261\n",
      "Эпоха [4/25], Шаг [200/469], Потеря: 104.7148\n",
      "Эпоха [4/25], Шаг [300/469], Потеря: 103.8669\n",
      "Эпоха [4/25], Шаг [400/469], Потеря: 103.6687\n",
      "====> Эпоха: 4 Средняя потеря: 104.7712\n",
      "Эпоха [5/25], Шаг [100/469], Потеря: 103.0031\n",
      "Эпоха [5/25], Шаг [200/469], Потеря: 102.0109\n",
      "Эпоха [5/25], Шаг [300/469], Потеря: 102.8514\n",
      "Эпоха [5/25], Шаг [400/469], Потеря: 101.1162\n",
      "====> Эпоха: 5 Средняя потеря: 103.6593\n",
      "Сохранение примеров для эпохи 5...\n",
      "Сохранены примеры реконструкции.\n",
      "Сохранены сгенерированные примеры.\n",
      "Эпоха [6/25], Шаг [100/469], Потеря: 110.8040\n",
      "Эпоха [6/25], Шаг [200/469], Потеря: 104.3036\n",
      "Эпоха [6/25], Шаг [300/469], Потеря: 101.5962\n",
      "Эпоха [6/25], Шаг [400/469], Потеря: 102.4353\n",
      "====> Эпоха: 6 Средняя потеря: 103.0100\n",
      "Эпоха [7/25], Шаг [100/469], Потеря: 106.5563\n",
      "Эпоха [7/25], Шаг [200/469], Потеря: 98.7027\n",
      "Эпоха [7/25], Шаг [300/469], Потеря: 104.8608\n",
      "Эпоха [7/25], Шаг [400/469], Потеря: 101.0995\n",
      "====> Эпоха: 7 Средняя потеря: 102.5601\n",
      "Эпоха [8/25], Шаг [100/469], Потеря: 103.0300\n",
      "Эпоха [8/25], Шаг [200/469], Потеря: 101.2590\n",
      "Эпоха [8/25], Шаг [300/469], Потеря: 101.5484\n",
      "Эпоха [8/25], Шаг [400/469], Потеря: 99.0634\n",
      "====> Эпоха: 8 Средняя потеря: 101.9955\n",
      "Эпоха [9/25], Шаг [100/469], Потеря: 101.5540\n",
      "Эпоха [9/25], Шаг [200/469], Потеря: 98.2801\n",
      "Эпоха [9/25], Шаг [300/469], Потеря: 100.8797\n",
      "Эпоха [9/25], Шаг [400/469], Потеря: 103.7971\n",
      "====> Эпоха: 9 Средняя потеря: 101.5422\n",
      "Эпоха [10/25], Шаг [100/469], Потеря: 97.7958\n",
      "Эпоха [10/25], Шаг [200/469], Потеря: 98.8964\n",
      "Эпоха [10/25], Шаг [300/469], Потеря: 103.8980\n",
      "Эпоха [10/25], Шаг [400/469], Потеря: 99.9605\n",
      "====> Эпоха: 10 Средняя потеря: 100.9957\n",
      "Сохранение примеров для эпохи 10...\n",
      "Сохранены примеры реконструкции.\n",
      "Сохранены сгенерированные примеры.\n",
      "Эпоха [11/25], Шаг [100/469], Потеря: 101.1376\n",
      "Эпоха [11/25], Шаг [200/469], Потеря: 99.5942\n",
      "Эпоха [11/25], Шаг [300/469], Потеря: 101.9404\n",
      "Эпоха [11/25], Шаг [400/469], Потеря: 101.5684\n",
      "====> Эпоха: 11 Средняя потеря: 100.7315\n",
      "Эпоха [12/25], Шаг [100/469], Потеря: 101.1075\n",
      "Эпоха [12/25], Шаг [200/469], Потеря: 103.9981\n",
      "Эпоха [12/25], Шаг [300/469], Потеря: 105.3401\n",
      "Эпоха [12/25], Шаг [400/469], Потеря: 97.8296\n",
      "====> Эпоха: 12 Средняя потеря: 100.4542\n",
      "Эпоха [13/25], Шаг [100/469], Потеря: 99.1468\n",
      "Эпоха [13/25], Шаг [200/469], Потеря: 101.3608\n",
      "Эпоха [13/25], Шаг [300/469], Потеря: 98.0316\n",
      "Эпоха [13/25], Шаг [400/469], Потеря: 98.2524\n",
      "====> Эпоха: 13 Средняя потеря: 100.2679\n",
      "Эпоха [14/25], Шаг [100/469], Потеря: 98.3374\n",
      "Эпоха [14/25], Шаг [200/469], Потеря: 100.9552\n",
      "Эпоха [14/25], Шаг [300/469], Потеря: 101.6651\n",
      "Эпоха [14/25], Шаг [400/469], Потеря: 99.1201\n",
      "====> Эпоха: 14 Средняя потеря: 99.9095\n",
      "Эпоха [15/25], Шаг [100/469], Потеря: 99.4223\n",
      "Эпоха [15/25], Шаг [200/469], Потеря: 97.7702\n",
      "Эпоха [15/25], Шаг [300/469], Потеря: 101.5769\n",
      "Эпоха [15/25], Шаг [400/469], Потеря: 97.8492\n",
      "====> Эпоха: 15 Средняя потеря: 99.7772\n",
      "Сохранение примеров для эпохи 15...\n",
      "Сохранены примеры реконструкции.\n",
      "Сохранены сгенерированные примеры.\n",
      "Эпоха [16/25], Шаг [100/469], Потеря: 102.5334\n",
      "Эпоха [16/25], Шаг [200/469], Потеря: 96.8977\n",
      "Эпоха [16/25], Шаг [300/469], Потеря: 99.7913\n",
      "Эпоха [16/25], Шаг [400/469], Потеря: 99.5385\n",
      "====> Эпоха: 16 Средняя потеря: 99.4529\n",
      "Эпоха [17/25], Шаг [100/469], Потеря: 97.6475\n",
      "Эпоха [17/25], Шаг [200/469], Потеря: 101.1999\n",
      "Эпоха [17/25], Шаг [300/469], Потеря: 97.9167\n",
      "Эпоха [17/25], Шаг [400/469], Потеря: 99.9126\n",
      "====> Эпоха: 17 Средняя потеря: 99.2437\n",
      "Эпоха [18/25], Шаг [100/469], Потеря: 101.7944\n",
      "Эпоха [18/25], Шаг [200/469], Потеря: 97.2378\n",
      "Эпоха [18/25], Шаг [300/469], Потеря: 100.2054\n",
      "Эпоха [18/25], Шаг [400/469], Потеря: 98.1485\n",
      "====> Эпоха: 18 Средняя потеря: 99.0936\n",
      "Эпоха [19/25], Шаг [100/469], Потеря: 100.5023\n",
      "Эпоха [19/25], Шаг [200/469], Потеря: 99.3109\n",
      "Эпоха [19/25], Шаг [300/469], Потеря: 98.5589\n",
      "Эпоха [19/25], Шаг [400/469], Потеря: 99.2788\n",
      "====> Эпоха: 19 Средняя потеря: 98.9066\n",
      "Эпоха [20/25], Шаг [100/469], Потеря: 96.1760\n",
      "Эпоха [20/25], Шаг [200/469], Потеря: 102.2589\n",
      "Эпоха [20/25], Шаг [300/469], Потеря: 102.1233\n",
      "Эпоха [20/25], Шаг [400/469], Потеря: 99.3634\n",
      "====> Эпоха: 20 Средняя потеря: 98.6320\n",
      "Сохранение примеров для эпохи 20...\n",
      "Сохранены примеры реконструкции.\n",
      "Сохранены сгенерированные примеры.\n",
      "Эпоха [21/25], Шаг [100/469], Потеря: 100.4176\n",
      "Эпоха [21/25], Шаг [200/469], Потеря: 100.1761\n",
      "Эпоха [21/25], Шаг [300/469], Потеря: 99.7693\n",
      "Эпоха [21/25], Шаг [400/469], Потеря: 104.2690\n",
      "====> Эпоха: 21 Средняя потеря: 98.5035\n",
      "Эпоха [22/25], Шаг [100/469], Потеря: 98.6439\n",
      "Эпоха [22/25], Шаг [200/469], Потеря: 101.1930\n",
      "Эпоха [22/25], Шаг [300/469], Потеря: 101.1400\n",
      "Эпоха [22/25], Шаг [400/469], Потеря: 98.6502\n",
      "====> Эпоха: 22 Средняя потеря: 98.3590\n",
      "Эпоха [23/25], Шаг [100/469], Потеря: 98.5581\n",
      "Эпоха [23/25], Шаг [200/469], Потеря: 100.1259\n",
      "Эпоха [23/25], Шаг [300/469], Потеря: 98.9158\n",
      "Эпоха [23/25], Шаг [400/469], Потеря: 102.2734\n",
      "====> Эпоха: 23 Средняя потеря: 98.1303\n",
      "Эпоха [24/25], Шаг [100/469], Потеря: 96.4169\n",
      "Эпоха [24/25], Шаг [200/469], Потеря: 96.3239\n",
      "Эпоха [24/25], Шаг [300/469], Потеря: 98.2909\n",
      "Эпоха [24/25], Шаг [400/469], Потеря: 96.5844\n",
      "====> Эпоха: 24 Средняя потеря: 98.0411\n",
      "Эпоха [25/25], Шаг [100/469], Потеря: 95.7169\n",
      "Эпоха [25/25], Шаг [200/469], Потеря: 99.9728\n",
      "Эпоха [25/25], Шаг [300/469], Потеря: 99.6390\n",
      "Эпоха [25/25], Шаг [400/469], Потеря: 100.4023\n",
      "====> Эпоха: 25 Средняя потеря: 97.8447\n",
      "Сохранение примеров для эпохи 25...\n",
      "Сохранены примеры реконструкции.\n",
      "Сохранены сгенерированные примеры.\n",
      "\n",
      "Обучение завершено!\n"
     ]
    }
   ],
   "source": [
    "# Цикл обучения\n",
    "num_epochs = 25\n",
    "\n",
    "print(f\"Запуск обучения на {num_epochs} эпох...\")\n",
    "model.train() # Переводим модель в режим обучения\n",
    "total_steps = len(data_loader)\n",
    "\n",
    "for epoch in range(num_epochs):\n",
    "    epoch_loss = 0.0\n",
    "\n",
    "    for i, (x, _) in enumerate(data_loader):\n",
    "        x = x.to(device) # Перемещаем на устройство, сохраняя форму (N, 1, 28, 28)\n",
    "\n",
    "        # Прямой проход\n",
    "        try:\n",
    "            recon_x, mu, log_var = model(x)\n",
    "        except Exception as e:\n",
    "             print(f\"\\n!!! Ошибка во время прямого прохода: Эпоха {epoch+1}, Шаг {i+1} !!!\")\n",
    "             print(f\"    Форма входа x: {x.shape}\")\n",
    "             print(f\"    Тип объекта model: {type(model)}\")\n",
    "             print(f\"    Сообщение об ошибке: {e}\")\n",
    "             raise e # Перевыбрасываем ошибку для полного traceback\n",
    "\n",
    "        # Расчет потерь с помощью функции\n",
    "        loss = loss_function(recon_x, x, mu, log_var)\n",
    "\n",
    "        # Обратное распространение и оптимизация\n",
    "        optimizer.zero_grad()\n",
    "        loss.backward()\n",
    "        optimizer.step()\n",
    "\n",
    "        # Накопление общей потери для статистики эпохи\n",
    "        epoch_loss += loss.item()\n",
    "        # Для точного разделения потерь на Recon/KL потребовались бы метрики или отдельный расчет\n",
    "\n",
    "        # Логирование каждые N шагов\n",
    "        if (i + 1) % 100 == 0:\n",
    "             # Выводим общую потерю на батч (усредненную по размеру батча)\n",
    "            current_loss_per_item = loss.item() / x.size(0)\n",
    "            print(f'Эпоха [{epoch+1}/{num_epochs}], Шаг [{i+1}/{total_steps}], Потеря: {current_loss_per_item:.4f}')\n",
    "\n",
    "    # Логирование в конце эпохи\n",
    "    # Убедимся, что dataset загружен\n",
    "    if 'dataset' in locals() and dataset is not None and len(dataset) > 0:\n",
    "        avg_epoch_loss = epoch_loss / len(dataset)\n",
    "        print(f'====> Эпоха: {epoch+1} Средняя потеря: {avg_epoch_loss:.4f}')\n",
    "    else:\n",
    "        print(f'====> Эпоха: {epoch+1} Суммарная потеря: {epoch_loss:.4f} (не удалось рассчитать среднюю)')\n",
    "\n",
    "\n",
    "    # Опционально: Сохранение примеров каждые N эпох\n",
    "    if (epoch + 1) % 5 == 0: # Пример: сохраняем каждые 5 эпох\n",
    "        print(f\"Сохранение примеров для эпохи {epoch+1}...\")\n",
    "        model.eval() # Режим оценки\n",
    "        with torch.no_grad():\n",
    "            # Пример реконструкции (используем последний батч x и recon_x)\n",
    "            if 'x' in locals() and 'recon_x' in locals():\n",
    "                try:\n",
    "                    n_examples = 8\n",
    "                    orig_imgs = x[:n_examples].cpu()\n",
    "                    recon_imgs = recon_x[:n_examples].cpu()\n",
    "                    comparison = torch.cat([orig_imgs, recon_imgs], dim=0)\n",
    "                    grid = make_grid(comparison, nrow=n_examples)\n",
    "                    save_image(grid, os.path.join(sample_dir, f'reconstruction_epoch_{epoch+1}.png'))\n",
    "                    print(f\"Сохранены примеры реконструкции.\")\n",
    "                except Exception as e:\n",
    "                    print(f\"Ошибка при сохранении реконструкции: {e}\")\n",
    "\n",
    "            # Пример генерации\n",
    "            try:\n",
    "                z_sample = torch.randn(64, z_dim).to(device) # Генерируем 64 примера\n",
    "                generated_imgs = model.decode(z_sample).cpu()\n",
    "                grid = make_grid(generated_imgs.view(64, 1, 28, 28), nrow=8)\n",
    "                save_image(grid, os.path.join(sample_dir, f'sample_epoch_{epoch+1}.png'))\n",
    "                print(f\"Сохранены сгенерированные примеры.\")\n",
    "            except Exception as e:\n",
    "                 print(f\"Ошибка при генерации/сохранении примеров: {e}\")\n",
    "\n",
    "        model.train() # Возвращаем режим обучения\n",
    "\n",
    "print(\"\\nОбучение завершено!\")"
   ]
  },
  {
   "cell_type": "markdown",
   "metadata": {
    "id": "4xgIA2RNWUkB"
   },
   "source": [
    "## 5. Демонстрация возможностей VAE (после обучения)\n",
    "\n",
    "Теперь, когда модель обучена, давайте еще раз посмотрим на результаты реконструкции и генерации, а также (если `z_dim = 2`) визуализируем латентное пространство.\n",
    "\n",
    "### 5.1 Реконструкция изображений (Тестовый набор)"
   ]
  },
  {
   "cell_type": "code",
   "execution_count": 28,
   "metadata": {
    "id": "ceha6pOSWU_K"
   },
   "outputs": [
    {
     "data": {
      "image/png": "[encoded data removed]",
      "text/plain": [
       "<Figure size 1500x350 with 20 Axes>"
      ]
     },
     "metadata": {},
     "output_type": "display_data"
    }
   ],
   "source": [
    "# Загрузим тестовый набор данных\n",
    "test_dataset = datasets.MNIST(root='data', train=False, transform=transforms.ToTensor())\n",
    "test_loader = DataLoader(dataset=test_dataset, batch_size=batch_size, shuffle=False)\n",
    "\n",
    "# Возьмем один батч из тестового набора\n",
    "model.eval() # Режим оценки\n",
    "with torch.no_grad():\n",
    "    test_iter = iter(test_loader)\n",
    "    x_test, y_test = next(test_iter) # Получаем батч изображений и меток\n",
    "\n",
    "    # ПРАВИЛЬНО для ConvVAE:\n",
    "    # Перемещаем на устройство, СОХРАНЯЯ 4D форму (N, 1, 28, 28)\n",
    "    x_test_on_device = x_test.to(device)\n",
    "\n",
    "    # Получаем реконструкции, подавая 4D тензор в модель\n",
    "    recon_test, _, _ = model(x_test_on_device) # mu, log_var нам здесь не нужны\n",
    "\n",
    "    # --- Визуализация (этот код скорее всего уже правильный) ---\n",
    "    n_examples = 10\n",
    "    # Оригиналы берем из исходного x_test (на CPU)\n",
    "    originals = x_test[:n_examples].view(-1, 1, 28, 28)\n",
    "    # Реконструкции переносим на CPU для визуализации\n",
    "    recons = recon_test[:n_examples].view(-1, 1, 28, 28).cpu()\n",
    "\n",
    "    fig, axes = plt.subplots(2, n_examples, figsize=(15, 3.5))\n",
    "    fig.suptitle(\"Реконструкция на тестовых данных (Верх: Оригинал, Низ: Реконструкция)\", fontsize=16)\n",
    "    for i in range(n_examples):\n",
    "        # Оригинал\n",
    "        axes[0, i].imshow(originals[i, 0].numpy(), cmap='gray')\n",
    "        axes[0, i].set_title(f\"Label: {y_test[i].item()}\")\n",
    "        axes[0, i].axis('off')\n",
    "        # Реконструкция\n",
    "        axes[1, i].imshow(recons[i, 0].numpy(), cmap='gray')\n",
    "        axes[1, i].axis('off')\n",
    "    plt.tight_layout(rect=[0, 0.03, 1, 0.95])\n",
    "    plt.show()"
   ]
  },
  {
   "cell_type": "markdown",
   "metadata": {
    "id": "h0ilYQLuWW9U"
   },
   "source": [
    "### 5.2 Визуализация латентного пространства"
   ]
  },
  {
   "cell_type": "code",
   "execution_count": null,
   "metadata": {
    "id": "GjUVkHjYWYdF"
   },
   "outputs": [],
   "source": [
    "model.eval() # Переводим модель в режим оценки\n",
    "latent_means = []\n",
    "labels = []\n",
    "n_samples_for_viz = 5000 # Ограничим кол-во точек для ускорения t-SNE\n",
    "\n",
    "with torch.no_grad(): # Отключаем расчет градиентов\n",
    "    # Прогоним часть тестового набора (или весь) через энкодер\n",
    "    count = 0\n",
    "    for i, (x, y) in enumerate(test_loader): # Используем test_loader, созданный ранее\n",
    "        if count >= n_samples_for_viz:\n",
    "            break\n",
    "        x = x.to(device) # Форма (N, 1, 28, 28)\n",
    "        mu, _ = model.encode(x) # Нам нужен только mu, форма (N, z_dim)\n",
    "        latent_means.append(mu.cpu().numpy())\n",
    "        labels.append(y.numpy())\n",
    "        count += x.size(0)\n",
    "\n",
    "latent_means = np.concatenate(latent_means, axis=0)\n",
    "labels = np.concatenate(labels, axis=0)\n",
    "\n",
    "# Убедимся, что взяли не больше n_samples_for_viz\n",
    "latent_means = latent_means[:n_samples_for_viz]\n",
    "labels = labels[:n_samples_for_viz]\n",
    "\n",
    "# Инициализируем и применяем t-SNE\n",
    "# n_components=2: Снижаем до 2 измерений для визуализации\n",
    "# random_state: Для воспроизводимости.\n",
    "tsne = TSNE(n_components=2, random_state=42)\n",
    "tsne_results = tsne.fit_transform(latent_means)\n",
    "\n",
    "# Создаем 2D график результатов t-SNE\n",
    "plt.figure(figsize=(12, 10))\n",
    "scatter = plt.scatter(tsne_results[:, 0], tsne_results[:, 1], c=labels, cmap='viridis', s=10, alpha=0.7)\n",
    "plt.colorbar(scatter, label='Цифра')\n",
    "plt.xlabel(\"t-SNE измерение 1\")\n",
    "plt.ylabel(\"t-SNE измерение 2\")\n",
    "plt.title(f\"Визуализация латентного пространства MNIST (z_dim={z_dim}) с помощью t-SNE\")\n",
    "plt.grid(True)\n",
    "plt.show()"
   ]
  },
  {
   "cell_type": "markdown",
   "metadata": {
    "id": "8CWgw10WWbuH"
   },
   "source": [
    "### 5.3 Генерация новых изображений\n",
    "\n",
    "Сэмплируем случайные векторы $z$ из априорного распределения $\\mathcal{N}(0, I)$ и подаем их на вход декодеру для генерации новых цифр."
   ]
  },
  {
   "cell_type": "code",
   "execution_count": null,
   "metadata": {},
   "outputs": [],
   "source": [
    "n_generated_rows = 8\n",
    "n_generated_cols = 8\n",
    "n_generated_total = n_generated_rows * n_generated_cols # Сгенерируем 64 примера\n",
    "\n",
    "print(f\"Генерация {n_generated_total} новых изображений...\")\n",
    "\n",
    "model.eval()\n",
    "with torch.no_grad(): # Отключаем расчет градиентов\n",
    "    # Сэмплируем z из стандартного нормального распределения\n",
    "    z_sample = torch.randn(n_generated_total, z_dim).to(device) # z_dim должен быть определен ранее\n",
    "    # Декодируем в изображения\n",
    "    generated_images = model.decode(z_sample).cpu() # Переносим на CPU для визуализации\n",
    "\n",
    "fig, axes = plt.subplots(n_generated_rows, n_generated_cols, figsize=(12, 12)) # Создаем сетку для графиков\n",
    "fig.suptitle(\"Сгенерированные изображения (из случайных z)\", fontsize=16)\n",
    "\n",
    "for i, ax in enumerate(axes.flat): # Итерируем по всем ячейкам сетки\n",
    "    if i < n_generated_total:\n",
    "        # Отображаем i-е сгенерированное изображение\n",
    "        # .squeeze() убирает измерение канала (1) для отображения ЧБ картинки\n",
    "        img = generated_images[i].squeeze()\n",
    "        ax.imshow(img.numpy(), cmap='gray')\n",
    "        ax.set_title(f\"Generated {i+1}\", fontsize=8) # Добавляем подпись к каждому\n",
    "    ax.axis('off') # Отключаем оси координат\n",
    "\n",
    "plt.tight_layout(rect=[0, 0.03, 1, 0.95]) # Корректируем расположение для заголовка\n",
    "\n",
    "plt.show()"
   ]
  },
  {
   "cell_type": "code",
   "execution_count": 10,
   "metadata": {
    "id": "CrDNdzhYWcHn"
   },
   "outputs": [
    {
     "name": "stdout",
     "output_type": "stream",
     "text": [
      "Saved final generated samples grid.\n"
     ]
    },
    {
     "data": {
      "image/png": "[encoded data removed]",
      "text/plain": [
       "<Figure size 1000x1000 with 1 Axes>"
      ]
     },
     "metadata": {},
     "output_type": "display_data"
    }
   ],
   "source": [
    "# Генерация новых цифр\n",
    "model.eval()\n",
    "with torch.no_grad():\n",
    "    # Сэмплируем z из стандартного нормального распределения\n",
    "    z_sample = torch.randn(64, z_dim).to(device) # Сгенерируем 64 примера\n",
    "    # Декодируем в изображения\n",
    "    generated_images = model.decode(z_sample).cpu()\n",
    "\n",
    "    # Отображаем и сохраняем\n",
    "    grid_final = make_grid(generated_images.view(64, 1, 28, 28), nrow=8)\n",
    "    save_image(grid_final, os.path.join(sample_dir, 'final_generated_samples.png'))\n",
    "    print(\"Saved final generated samples grid.\")\n",
    "\n",
    "    # Показываем в ноутбуке\n",
    "    plt.figure(figsize=(10, 10))\n",
    "    plt.imshow(grid_final.permute(1, 2, 0)) # Меняем оси для Matplotlib (C, H, W) -> (H, W, C)\n",
    "    plt.title(\"Финальные сгенерированные изображения\")\n",
    "    plt.axis('off')\n",
    "    plt.show()\n",
    "\n",
    "# Дополнительно: Manifold plot (если z_dim = 2)\n",
    "if z_dim == 2:\n",
    "    print(\"Генерация многообразия (manifold plot) для 2D латентного пространства...\")\n",
    "    n_manifold = 15  # Сетка 15x15\n",
    "    figure = np.zeros((28 * n_manifold, 28 * n_manifold))\n",
    "    \n",
    "    grid_x = norm.ppf(np.linspace(0.05, 0.95, n_manifold))\n",
    "    grid_y = norm.ppf(np.linspace(0.05, 0.95, n_manifold)) # Используем те же значения для оси Y\n",
    "\n",
    "    with torch.no_grad():\n",
    "        for i, yi in enumerate(grid_y):\n",
    "            for j, xi in enumerate(grid_x):\n",
    "                z_sample = torch.tensor([[xi, yi]], dtype=torch.float32).to(device)\n",
    "                x_decoded = model.decode(z_sample).cpu()\n",
    "                digit = x_decoded[0].view(28, 28).numpy()\n",
    "                figure[i * 28: (i + 1) * 28,\n",
    "                       j * 28: (j + 1) * 28] = digit\n",
    "\n",
    "    plt.figure(figsize=(10, 10))\n",
    "    # Отображаем инвертированно по Y для стандартного вида manifold plot\n",
    "    plt.imshow(figure, cmap='gray', extent=[grid_x.min(), grid_x.max(), grid_y.max(), grid_y.min()])\n",
    "    plt.title(\"Многообразие MNIST в 2D латентном пространстве VAE\")\n",
    "    plt.xlabel(\"Латентное измерение 1 ($z_1$)\")\n",
    "    plt.ylabel(\"Латентное измерение 2 ($z_2$)\")\n",
    "    plt.show()\n",
    "    plt.savefig(os.path.join(sample_dir, 'manifold_plot_2d.png'))\n",
    "    print(\"Saved manifold plot.\")"
   ]
  },
  {
   "cell_type": "code",
   "execution_count": 11,
   "metadata": {},
   "outputs": [
    {
     "name": "stdout",
     "output_type": "stream",
     "text": [
      "Подготовка данных для поиска средних латентных распределений...\n",
      "Собрано 10000 латентных представлений (mu и log_var).\n"
     ]
    },
    {
     "name": "stdin",
     "output_type": "stream",
     "text": [
      "Введите цифру от 0 до 9 для генерации (или 'q' для выхода):  0\n"
     ]
    },
    {
     "name": "stdout",
     "output_type": "stream",
     "text": [
      "Генерация варианта цифры 0 из усредненного распределения...\n"
     ]
    },
    {
     "data": {
      "image/png": "[encoded data removed]",
      "text/plain": [
       "<Figure size 400x400 with 1 Axes>"
      ]
     },
     "metadata": {},
     "output_type": "display_data"
    },
    {
     "name": "stdin",
     "output_type": "stream",
     "text": [
      "Введите цифру от 0 до 9 для генерации (или 'q' для выхода):  0\n"
     ]
    },
    {
     "name": "stdout",
     "output_type": "stream",
     "text": [
      "Генерация варианта цифры 0 из усредненного распределения...\n"
     ]
    },
    {
     "data": {
      "image/png": "[encoded data removed]",
      "text/plain": [
       "<Figure size 400x400 with 1 Axes>"
      ]
     },
     "metadata": {},
     "output_type": "display_data"
    },
    {
     "name": "stdin",
     "output_type": "stream",
     "text": [
      "Введите цифру от 0 до 9 для генерации (или 'q' для выхода):  1\n"
     ]
    },
    {
     "name": "stdout",
     "output_type": "stream",
     "text": [
      "Генерация варианта цифры 1 из усредненного распределения...\n"
     ]
    },
    {
     "data": {
      "image/png": "[encoded data removed]",
      "text/plain": [
       "<Figure size 400x400 with 1 Axes>"
      ]
     },
     "metadata": {},
     "output_type": "display_data"
    },
    {
     "name": "stdin",
     "output_type": "stream",
     "text": [
      "Введите цифру от 0 до 9 для генерации (или 'q' для выхода):  1\n"
     ]
    },
    {
     "name": "stdout",
     "output_type": "stream",
     "text": [
      "Генерация варианта цифры 1 из усредненного распределения...\n"
     ]
    },
    {
     "data": {
      "image/png": "[encoded data removed]",
      "text/plain": [
       "<Figure size 400x400 with 1 Axes>"
      ]
     },
     "metadata": {},
     "output_type": "display_data"
    },
    {
     "name": "stdin",
     "output_type": "stream",
     "text": [
      "Введите цифру от 0 до 9 для генерации (или 'q' для выхода):  2\n"
     ]
    },
    {
     "name": "stdout",
     "output_type": "stream",
     "text": [
      "Генерация варианта цифры 2 из усредненного распределения...\n"
     ]
    },
    {
     "data": {
      "image/png": "[encoded data removed]",
      "text/plain": [
       "<Figure size 400x400 with 1 Axes>"
      ]
     },
     "metadata": {},
     "output_type": "display_data"
    },
    {
     "name": "stdin",
     "output_type": "stream",
     "text": [
      "Введите цифру от 0 до 9 для генерации (или 'q' для выхода):  2\n"
     ]
    },
    {
     "name": "stdout",
     "output_type": "stream",
     "text": [
      "Генерация варианта цифры 2 из усредненного распределения...\n"
     ]
    },
    {
     "data": {
      "image/png": "[encoded data removed]",
      "text/plain": [
       "<Figure size 400x400 with 1 Axes>"
      ]
     },
     "metadata": {},
     "output_type": "display_data"
    },
    {
     "name": "stdin",
     "output_type": "stream",
     "text": [
      "Введите цифру от 0 до 9 для генерации (или 'q' для выхода):  q\n"
     ]
    },
    {
     "name": "stdout",
     "output_type": "stream",
     "text": [
      "Выход.\n"
     ]
    }
   ],
   "source": [
    "model.eval()\n",
    "all_mus = []\n",
    "all_log_vars = [] \n",
    "all_labels = []\n",
    "\n",
    "with torch.no_grad(): \n",
    "    # Пройдем по данным, чтобы собрать mu, log_var и метки\n",
    "    for x, y in test_loader:\n",
    "        x = x.to(device) # Форма (N, 1, 28, 28)\n",
    "        mu, log_var = model.encode(x) # Получаем и mu, и log_var\n",
    "        all_mus.append(mu.cpu())\n",
    "        all_log_vars.append(log_var.cpu()) # Сохраняем log_var\n",
    "        all_labels.append(y)\n",
    "\n",
    "# Объединяем результаты из всех батчей\n",
    "all_mus = torch.cat(all_mus, dim=0)\n",
    "all_log_vars = torch.cat(all_log_vars, dim=0) # Объединяем log_var\n",
    "all_labels = torch.cat(all_labels, dim=0)\n",
    "\n",
    "print(f\"Собрано {all_mus.shape[0]} латентных представлений (mu и log_var).\")\n",
    "\n",
    "while True:\n",
    "    try:\n",
    "        digit_str = input(f\"Введите цифру от 0 до 9 для генерации (или 'q' для выхода): \")\n",
    "        if digit_str.lower() == 'q':\n",
    "            print(\"Выход.\")\n",
    "            break\n",
    "\n",
    "        target_digit = int(digit_str)\n",
    "        if 0 <= target_digit <= 9:\n",
    "            # --- Поиск и усреднение mu и log_var для нужной цифры ---\n",
    "            # Находим индексы, где метка совпадает с введенной цифрой\n",
    "            indices = (all_labels == target_digit).nonzero(as_tuple=True)[0]\n",
    "\n",
    "            if len(indices) == 0:\n",
    "                print(f\"Не найдено примеров для цифры {target_digit} в использованном наборе данных.\")\n",
    "                continue\n",
    "\n",
    "            # Выбираем соответствующие векторы mu и log_var\n",
    "            digit_mus = all_mus[indices]\n",
    "            digit_log_vars = all_log_vars[indices]\n",
    "\n",
    "            # Считаем средние значения\n",
    "            mean_mu = torch.mean(digit_mus, dim=0)\n",
    "            mean_log_var = torch.mean(digit_log_vars, dim=0)\n",
    "\n",
    "            # --- Сэмплирование z из усредненного распределения ---\n",
    "            print(f\"Генерация варианта цифры {target_digit} из усредненного распределения...\")\n",
    "            with torch.no_grad():\n",
    "                # Применяем репараметризационный трюк к средним mu и log_var\n",
    "                std = torch.exp(0.5 * mean_log_var)\n",
    "                # Генерируем случайный шум epsilon нужного размера (размер z_dim)\n",
    "                eps = torch.randn_like(std) # Используем randn_like(std), чтобы размер совпадал\n",
    "                # Вычисляем сэмплированный z\n",
    "                z_sampled = mean_mu + eps * std\n",
    "\n",
    "                # Перемещаем z на нужное устройство и добавляем размерность батча (1)\n",
    "                z_sampled = z_sampled.unsqueeze(0).to(device)\n",
    "\n",
    "                # Декодируем сэмплированный z\n",
    "                generated_image = model.decode(z_sampled).cpu()\n",
    "\n",
    "            # --- Отображение результата ---\n",
    "            plt.figure(figsize=(4, 4))\n",
    "            plt.imshow(generated_image.squeeze().numpy(), cmap='gray')\n",
    "            plt.title(f\"Сгенерированный вариант цифры {target_digit}\")\n",
    "            plt.axis('off')\n",
    "            plt.show()\n",
    "\n",
    "        else:\n",
    "            print(\"Ошибка: Введите число от 0 до 9.\")\n",
    "    except ValueError:\n",
    "        print(\"Ошибка: Введите число от 0 до 9.\")\n",
    "    except Exception as e:\n",
    "        print(f\"Произошла ошибка: {e}\")\n",
    "        break"
   ]
  },
  {
   "cell_type": "code",
   "execution_count": 22,
   "metadata": {},
   "outputs": [],
   "source": [
    "import PIL"
   ]
  },
  {
   "cell_type": "code",
   "execution_count": 160,
   "metadata": {},
   "outputs": [
    {
     "ename": "ValueError",
     "evalue": "cannot reshape array of size 756 into shape (28,28,1)",
     "output_type": "error",
     "traceback": [
      "\u001b[31m---------------------------------------------------------------------------\u001b[39m",
      "\u001b[31mValueError\u001b[39m                                Traceback (most recent call last)",
      "\u001b[36mCell\u001b[39m\u001b[36m \u001b[39m\u001b[32mIn[160]\u001b[39m\u001b[32m, line 2\u001b[39m\n\u001b[32m      1\u001b[39m r = PIL.Image.open(\u001b[33m\"\u001b[39m\u001b[33mC://Users//qw4rd//Downloads//Statprac//images//моя7ка.jpg\u001b[39m\u001b[33m\"\u001b[39m)\n\u001b[32m----> \u001b[39m\u001b[32m2\u001b[39m r = \u001b[43mnp\u001b[49m\u001b[43m.\u001b[49m\u001b[43marray\u001b[49m\u001b[43m(\u001b[49m\u001b[43mr\u001b[49m\u001b[43m.\u001b[49m\u001b[43mconvert\u001b[49m\u001b[43m(\u001b[49m\u001b[43mmode\u001b[49m\u001b[43m=\u001b[49m\u001b[33;43m\"\u001b[39;49m\u001b[33;43mL\u001b[39;49m\u001b[33;43m\"\u001b[39;49m\u001b[43m)\u001b[49m\u001b[43m)\u001b[49m\u001b[43m.\u001b[49m\u001b[43mreshape\u001b[49m\u001b[43m(\u001b[49m\u001b[32;43m28\u001b[39;49m\u001b[43m,\u001b[49m\u001b[32;43m28\u001b[39;49m\u001b[43m,\u001b[49m\u001b[32;43m1\u001b[39;49m\u001b[43m)\u001b[49m / \u001b[32m255\u001b[39m\n",
      "\u001b[31mValueError\u001b[39m: cannot reshape array of size 756 into shape (28,28,1)"
     ]
    }
   ],
   "source": [
    "r = PIL.Image.open(\"C://Users//qw4rd//Downloads//Statprac//images//моя7ка.jpg\")\n",
    "r = np.array(r.convert(mode=\"L\")).reshape(28,28,1) / 255"
   ]
  },
  {
   "cell_type": "code",
   "execution_count": 161,
   "metadata": {},
   "outputs": [
    {
     "ename": "TypeError",
     "evalue": "unsupported operand type(s) for -: 'int' and 'JpegImageFile'",
     "output_type": "error",
     "traceback": [
      "\u001b[31m---------------------------------------------------------------------------\u001b[39m",
      "\u001b[31mTypeError\u001b[39m                                 Traceback (most recent call last)",
      "\u001b[36mCell\u001b[39m\u001b[36m \u001b[39m\u001b[32mIn[161]\u001b[39m\u001b[32m, line 1\u001b[39m\n\u001b[32m----> \u001b[39m\u001b[32m1\u001b[39m q = model(torch.tensor(\u001b[32;43m1\u001b[39;49m\u001b[43m \u001b[49m\u001b[43m-\u001b[49m\u001b[43m \u001b[49m\u001b[43mr\u001b[49m, dtype=torch.float32).permute(\u001b[32m2\u001b[39m, \u001b[32m0\u001b[39m, \u001b[32m1\u001b[39m).unsqueeze(\u001b[32m0\u001b[39m).to(\u001b[33m'\u001b[39m\u001b[33mcuda\u001b[39m\u001b[33m'\u001b[39m))[\u001b[32m0\u001b[39m].reshape(\u001b[32m28\u001b[39m, \u001b[32m28\u001b[39m, \u001b[32m1\u001b[39m)\n\u001b[32m      2\u001b[39m plt.imshow(q.cpu().detach(), cmap=\u001b[33m'\u001b[39m\u001b[33mgray\u001b[39m\u001b[33m'\u001b[39m)\n",
      "\u001b[31mTypeError\u001b[39m: unsupported operand type(s) for -: 'int' and 'JpegImageFile'"
     ]
    }
   ],
   "source": [
    "q = model(torch.tensor(1 - r, dtype=torch.float32).permute(2, 0, 1).unsqueeze(0).to('cuda'))[0].reshape(28, 28, 1)\n",
    "plt.imshow(q.cpu().detach(), cmap='gray')"
   ]
  },
  {
   "cell_type": "markdown",
   "metadata": {
    "id": "TO_THfPPWfxF"
   },
   "source": [
    "## 6. Заключение\n",
    "\n",
    "Я подробно рассмотрел теорию вариационных автоэнкодеров, начиная с основ обычных автоэнкодеров. Разобрал ключевые компоненты VAE: вероятностный энкодер, репараметризационный трюк, декодер и функцию потерь ELBO (ошибка реконструкции + KL-дивергенция).\n",
    "\n",
    "Был реализован VAE с использованием PyTorch, обучил его на данных MNIST и продемонстрировал его основные возможности:\n",
    "* **Реконструкция:** Способность восстанавливать входные изображения.\n",
    "* **Структурированное латентное пространство:** (Визуализация показала кластеризацию цифр). KL-дивергенция помогла организовать это пространство.\n",
    "* **Генерация:** Способность создавать новые, правдоподобные изображения путем сэмплирования из латентного пространства.\n",
    "\n",
    "VAE - мощный инструмент в области генеративного моделирования и обучения представлений."
   ]
  }
 ],
 "metadata": {
  "colab": {
   "provenance": []
  },
  "kernelspec": {
   "display_name": "Python 3 (ipykernel)",
   "language": "python",
   "name": "python3"
  },
  "language_info": {
   "codemirror_mode": {
    "name": "ipython",
    "version": 3
   },
   "file_extension": ".py",
   "mimetype": "text/x-python",
   "name": "python",
   "nbconvert_exporter": "python",
   "pygments_lexer": "ipython3",
   "version": "3.13.3"
  }
 },
 "nbformat": 4,
 "nbformat_minor": 4
}
