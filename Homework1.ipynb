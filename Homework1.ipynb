{
  "cells": [
    {
      "cell_type": "markdown",
      "metadata": {
        "id": "xw8BD8v2oBGj"
      },
      "source": [
        "# Homework"
      ]
    },
    {
      "cell_type": "markdown",
      "source": [
        "**Homework is done by the student of group 331 Ryakhovskiy Aleksey**"
      ],
      "metadata": {
        "id": "PTAoRH1EsIdA"
      }
    },
    {
      "cell_type": "markdown",
      "metadata": {
        "id": "sSos7q2_oBGj"
      },
      "source": [
        "## Problem 1"
      ]
    },
    {
      "cell_type": "markdown",
      "metadata": {
        "id": "NiX8ePp0oBGk"
      },
      "source": [
        "Make a tuple containing natural numbers, the square of which is a multiple of 3, 4, but not a multiple of 8 and not exceeding 12345."
      ]
    },
    {
      "cell_type": "code",
      "execution_count": 60,
      "metadata": {
        "id": "XmPHEnS9oBGk"
      },
      "outputs": [],
      "source": [
        "# Solution 1: if the square of a natural number is divisible by 3, 4 and 8, then the number itself is divisible by 3, 2 and 4 respectively\n",
        "t1 = tuple(x for x in range(1, 112) if x % 3 == 0 and x % 2 == 0 and x % 4 != 0)"
      ]
    },
    {
      "cell_type": "code",
      "source": [
        "# Solution 2: just look at all the numbers up to the root of 12345 and see if their square is divisible by 3, 4 and not divisible by 8.\n",
        "from math import sqrt\n",
        "t2 = tuple(x for x in range(1, int(sqrt(12345)) + 1) if x**2 % 3 == 0 and x**2 % 4 == 0 and x**2 % 8 != 0)"
      ],
      "metadata": {
        "id": "nnSwSdmYWk9n"
      },
      "execution_count": 61,
      "outputs": []
    },
    {
      "cell_type": "code",
      "source": [
        "print(\"Solution 1:\", t1)\n",
        "print(\"Solution 2:\", t2)"
      ],
      "metadata": {
        "colab": {
          "base_uri": "https://localhost:8080/"
        },
        "id": "0_I1D95NdEea",
        "outputId": "c1bc9e35-e173-4525-c023-bd84101985ab"
      },
      "execution_count": 62,
      "outputs": [
        {
          "output_type": "stream",
          "name": "stdout",
          "text": [
            "Solution 1: (6, 18, 30, 42, 54, 66, 78, 90, 102)\n",
            "Solution 2: (6, 18, 30, 42, 54, 66, 78, 90, 102)\n"
          ]
        }
      ]
    },
    {
      "cell_type": "markdown",
      "metadata": {
        "id": "OZBeUyxcoBGk"
      },
      "source": [
        "## Problem 2"
      ]
    },
    {
      "cell_type": "markdown",
      "metadata": {
        "id": "zIfvg22noBGk"
      },
      "source": [
        "\n",
        "Write a function that takes a two-dimensional array and a string as input and returns an array rotated 90 degrees counterclockwise if the string 'left' was passed, and clockwise if the string 'right' was passed.\n",
        "\n",
        "Example for input: $\\begin{bmatrix} 1 & 2 & 3 \\\\ 4 & 5 & 6 \\\\ 7 & 8 & 9 \\end{bmatrix}$.\\\n",
        "If the string 'left' is passed, the function should return $\\begin{bmatrix} 3 & 6 & 9 \\\\ 2 & 5 & 8 \\\\ 1 & 4 & 7 \\end{bmatrix}$, and if the string 'right' is passed, the function should return $\\begin{bmatrix} 7 & 4 & 1 \\\\ 8 & 5 & 2 \\\\ 9 & 6 & 3 \\end{bmatrix}$."
      ]
    },
    {
      "cell_type": "code",
      "execution_count": 63,
      "metadata": {
        "id": "HNvy_cRjoBGk"
      },
      "outputs": [],
      "source": [
        "# Solution 1\n",
        "\n",
        "def rotate1(arr, str):\n",
        "    if str == 'left':\n",
        "        return [[arr[i][j] for i in range(len(arr))] for j in range(len(arr[0]) - 1, -1, -1)]\n",
        "    elif str == 'right':\n",
        "        return [[arr[i][j] for i in range(len(arr) - 1, -1, -1)] for j in range(len(arr[0]))]\n",
        "    print('The rotate command is not recognised, the matrix remains unchanged')\n",
        "    return arr"
      ]
    },
    {
      "cell_type": "markdown",
      "source": [
        "***Solution 2:***\n",
        "\n",
        "list(zip(*arr)): makes a list of tuples of columns from a list of rows,\n",
        "using list(map(list, zip(-//-))) we make the tuples into lists.\n",
        "We got a list where the rows contain the columns (transpose).\n",
        "\n",
        "Now in the case of counterclockwise rotation we have to rearrange the new rows in reverse order,\n",
        "and in the case of clockwise rotation we have to rearrange the new columns in reverse order (well, or the rows in reverse order before transposition, as we did).\n"
      ],
      "metadata": {
        "id": "wmJf-YkASvKZ"
      }
    },
    {
      "cell_type": "code",
      "source": [
        "# Solution 2\n",
        "\n",
        "def rotate2(arr, str):\n",
        "    if str == 'left':\n",
        "        return list(map(list, zip(*arr)))[::-1]\n",
        "    elif str == 'right':\n",
        "        return list(map(list, zip(*arr[::-1])))\n",
        "    print('The rotate command is not recognised, the matrix remains unchanged')\n",
        "    return arr"
      ],
      "metadata": {
        "id": "lLuVHj2gJbhU"
      },
      "execution_count": 64,
      "outputs": []
    },
    {
      "cell_type": "code",
      "source": [
        "print('Solution 1:')\n",
        "print('Left rotate:', rotate1([[1, 2, 3], [4, 5, 6], [7, 8, 9]], 'left'))\n",
        "print('Right rotate:', rotate1([[1, 2, 3], [4, 5, 6], [7, 8, 9]], 'right'))\n",
        "print('\\nSolution 2:')\n",
        "print('Left rotate:', rotate2([[1, 2, 3], [4, 5, 6], [7, 8, 9]], 'left'))\n",
        "print('Right rotate:', rotate2([[1, 2, 3], [4, 5, 6], [7, 8, 9]], 'right'))"
      ],
      "metadata": {
        "colab": {
          "base_uri": "https://localhost:8080/"
        },
        "id": "nsHvsi8vlpP0",
        "outputId": "60a211ad-b333-4e74-dc4a-f2f03b3a670c"
      },
      "execution_count": 65,
      "outputs": [
        {
          "output_type": "stream",
          "name": "stdout",
          "text": [
            "Solution 1:\n",
            "Left rotate: [[3, 6, 9], [2, 5, 8], [1, 4, 7]]\n",
            "Right rotate: [[7, 4, 1], [8, 5, 2], [9, 6, 3]]\n",
            "\n",
            "Solution 2:\n",
            "Left rotate: [[3, 6, 9], [2, 5, 8], [1, 4, 7]]\n",
            "Right rotate: [[7, 4, 1], [8, 5, 2], [9, 6, 3]]\n"
          ]
        }
      ]
    },
    {
      "cell_type": "markdown",
      "metadata": {
        "id": "_dY-PFlCoBGk"
      },
      "source": [
        "## Problem 3"
      ]
    },
    {
      "cell_type": "markdown",
      "metadata": {
        "id": "3CaIwcm0oBGk"
      },
      "source": [
        "Write a function that takes a string as input and returns a dictionary containing the number of occurrences of each character in the string.\n",
        "\n",
        "Example for the string 'hello, world!': {'h': 1, 'e': 1, 'l': 3, 'o': 2, ',': 1, ' ': 1, 'w': 1, 'r': 1, 'd': 1, '!': 1}."
      ]
    },
    {
      "cell_type": "code",
      "execution_count": 66,
      "metadata": {
        "id": "rlSbHusZoBGk"
      },
      "outputs": [],
      "source": [
        "# Solution 1\n",
        "\n",
        "def counter1(text):\n",
        "    return {letter : text.count(letter) for letter in text}"
      ]
    },
    {
      "cell_type": "code",
      "source": [
        "# Solution 2\n",
        "\n",
        "def counter2(text):\n",
        "    d = dict()\n",
        "    for letter in text:\n",
        "        if letter in d:\n",
        "            d[letter] += 1\n",
        "        else:\n",
        "            d[letter] = 1\n",
        "    return d"
      ],
      "metadata": {
        "id": "1v8r6D-C3MW8"
      },
      "execution_count": 67,
      "outputs": []
    },
    {
      "cell_type": "code",
      "source": [
        "print(\"Solution 1:\", counter1(\"hello, world!\"))\n",
        "print(\"Solution 2:\", counter2(\"hello, world!\"))"
      ],
      "metadata": {
        "colab": {
          "base_uri": "https://localhost:8080/"
        },
        "id": "dSIHZvSPb_BQ",
        "outputId": "b336549f-0ac9-4d3e-a1e8-c5874b1094d0"
      },
      "execution_count": 68,
      "outputs": [
        {
          "output_type": "stream",
          "name": "stdout",
          "text": [
            "Solution 1: {'h': 1, 'e': 1, 'l': 3, 'o': 2, ',': 1, ' ': 1, 'w': 1, 'r': 1, 'd': 1, '!': 1}\n",
            "Solution 2: {'h': 1, 'e': 1, 'l': 3, 'o': 2, ',': 1, ' ': 1, 'w': 1, 'r': 1, 'd': 1, '!': 1}\n"
          ]
        }
      ]
    },
    {
      "cell_type": "markdown",
      "metadata": {
        "id": "KBGJ7PeboBGk"
      },
      "source": [
        "## Problem 4"
      ]
    },
    {
      "cell_type": "markdown",
      "metadata": {
        "id": "XS4Seqa9oBGk"
      },
      "source": [
        "### Implementing a Library Management System\n",
        "\n",
        "#### Description\n",
        "\n",
        "You are required to design and implement a system for managing books and users in a library. The system should allow for the management of books (adding, deleting, searching by various criteria) and users (registration, deletion, searching), as well as tracking the history of interactions between them (issuing and returning books).\n",
        "\n",
        "#### Tasks\n",
        "\n",
        "1. **`Book` Class**:\n",
        "   - Attributes: title, author, year of publication, ISBN, number of copies.\n",
        "   - Methods: constructor, methods to get information about the book, method to change the number of copies (when issuing and returning books).\n",
        "\n",
        "2. **`User` Class**:\n",
        "   - Attributes: user name, library card number, list of borrowed books.\n",
        "   - Methods: constructor, methods for user registration, methods for adding and removing books from the borrowed list.\n",
        "\n",
        "3. **`Library` Class**:\n",
        "   - Attributes: list of books, list of users, transaction history (who, when, which book was borrowed and returned).\n",
        "   - Methods: constructor, methods for adding and deleting books and users, methods for issuing and returning books, searching for books and users by various criteria, method to display the transaction history.\n",
        "\n",
        "#### Assignment\n",
        "\n",
        "1. Implement the `Book`, `User`, and `Library` classes with the specified attributes and methods.\n",
        "2. Create several books and users, and add them to the library system.\n",
        "3. Implement scenarios for issuing books to users and their return.\n",
        "4. Display the transaction history to show how books were issued and returned.\n"
      ]
    },
    {
      "cell_type": "code",
      "source": [
        "class Book:\n",
        "    def __init__(self, title, author, year, isbn, copies):\n",
        "        self.title = title\n",
        "        self.author = author\n",
        "        self.year = year\n",
        "        self.isbn = isbn\n",
        "        self.copies = copies\n",
        "        print(f\"Added book '{title}' {year} written by {author}. ISBN: {isbn}. Number of copies: {copies}.\")\n",
        "\n",
        "    def get_info(self):\n",
        "        return f\"Title: {self.title}, Author: {self.author}, Year: {self.year}, ISBN: {self.isbn}, Copies: {self.copies}\"\n",
        "\n",
        "    def change_copies(self, change):\n",
        "        self.copies += change\n",
        "        if self.copies < 0:\n",
        "            self.copies = 0\n",
        "        print(f\"The number of copies of the book '{self.title}' has been changed to {change} and is now {self.copies}\")"
      ],
      "metadata": {
        "id": "3NLePScLtbzg"
      },
      "execution_count": 69,
      "outputs": []
    },
    {
      "cell_type": "code",
      "source": [
        "class User:\n",
        "    def __init__(self, username, id):\n",
        "        self.username = username\n",
        "        self.id = id\n",
        "        self.borrowed_books = []\n",
        "        print(f\"Added user {username} with library card number {id}\")\n",
        "\n",
        "    def register_user(self, library):\n",
        "        library.add_user(self)\n",
        "\n",
        "    def add_borrowed_book(self, book):\n",
        "        self.borrowed_books.append(book)\n",
        "        print(f\"Book '{book.title}' issued to {self.username}.\")\n",
        "        book.change_copies(-1)\n",
        "\n",
        "    def remove_borrowed_book(self, book):\n",
        "        if book in self.borrowed_books:\n",
        "            self.borrowed_books.remove(book)\n",
        "            print(f\"Book '{book.title}' returned by {self.username}.\")\n",
        "            book.change_copies(1)\n",
        "        else:\n",
        "            print(f\"Book '{book.title}' not found in {self.username}'s borrowed list.\")\n",
        "\n",
        "    def get_borrowed_books(self):\n",
        "        return [book.title for book in self.borrowed_books]"
      ],
      "metadata": {
        "id": "x8-OvdYKuDmm"
      },
      "execution_count": 70,
      "outputs": []
    },
    {
      "cell_type": "code",
      "execution_count": 71,
      "metadata": {
        "id": "IbqwtWWsoBGl"
      },
      "outputs": [],
      "source": [
        "class Library:\n",
        "    def __init__(self):\n",
        "        self.books = []\n",
        "        self.users = []\n",
        "        self.transaction_history = []\n",
        "        print(f\"The library system has been successfully created.\")\n",
        "\n",
        "    def add_book(self, book):\n",
        "        if book not in self.books:\n",
        "            self.books.append(book)\n",
        "            print(f\"The book '{book.title}' added to the library.\")\n",
        "            return\n",
        "        print(f\"The book {book.title} is already in the library.\")\n",
        "\n",
        "    def delete_book(self, book):\n",
        "        if book in self.books:\n",
        "            self.books.remove(book)\n",
        "            print(f\"Book '{book.title}' with ISBN {book.isbn} removed from the library.\")\n",
        "            return\n",
        "        print(f\"The book {book.title} is not in this library to be removed from there.\")\n",
        "\n",
        "    def add_user(self, user):\n",
        "        if user not in self.users:\n",
        "            self.users.append(user)\n",
        "            print(f\"User '{user.username}' added to the library system.\")\n",
        "            return\n",
        "        print(f\"User '{user.username}' is already in the library system.\")\n",
        "\n",
        "    def delete_user(self, user):\n",
        "        if user in self.users:\n",
        "            self.users.remove(user)\n",
        "            print(f\"User '{user.username}' removed from the library system.\")\n",
        "            return\n",
        "        print(f\"User '{user.username}' is not in the library system to remove him from there.\")\n",
        "\n",
        "    def issue_book(self, user, book):\n",
        "        if book not in self.books:\n",
        "            print(f\"Book '{book.title}' is not in the library.\")\n",
        "        if book.copies > 0:\n",
        "            user.add_borrowed_book(book)\n",
        "            self.transaction_history.append({\n",
        "                \"action\": \"Issued\",\n",
        "                \"user\": user.username,\n",
        "                \"book\": book.title,\n",
        "            })\n",
        "            return\n",
        "        print(f\"Book '{book.title}' is currently unavailable.\")\n",
        "\n",
        "    def return_book(self, user, book):\n",
        "        if book in user.borrowed_books:\n",
        "            self.transaction_history.append({\n",
        "                \"action\": \"Returned\",\n",
        "                \"user\": user.username,\n",
        "                \"book\": book.title,\n",
        "            })\n",
        "        user.remove_borrowed_book(book)\n",
        "\n",
        "    def search_books(self, criteria, value):\n",
        "        results = []\n",
        "        for book in self.books:\n",
        "            if getattr(book, criteria, None) == value:\n",
        "                results.append(book.get_info())\n",
        "        if results:\n",
        "            print(f\"Book search results for '{criteria}' is '{value}':\")\n",
        "            for result in results:\n",
        "                print(result)\n",
        "        else:\n",
        "            print(f\"No books found matching the '{criteria}' is '{value}'.\")\n",
        "\n",
        "    def search_users(self, criteria, value):\n",
        "        results = []\n",
        "        for user in self.users:\n",
        "            if getattr(user, criteria, None) == value:\n",
        "                results.append(f\"Username: {user.username}, Library Card Number: {user.id}\")\n",
        "        if results:\n",
        "            print(f\"User search results for '{criteria}' is '{value}':\")\n",
        "            for result in results:\n",
        "                print(result)\n",
        "        else:\n",
        "            print(f\"No users found matching the '{criteria}' is '{value}'.\")\n",
        "\n",
        "    def display_transaction_history(self):\n",
        "        print(\"Transaction History:\")\n",
        "        for entry in self.transaction_history:\n",
        "            print(f\"{entry['action']}: {entry['book']} by {entry['user']}\")"
      ]
    },
    {
      "cell_type": "code",
      "source": [
        "# Example Usage\n",
        "if __name__ == \"__main__\":\n",
        "    # Create Library\n",
        "    library = Library()\n",
        "    print()\n",
        "\n",
        "    # Add Books\n",
        "    book1 = Book(\"The Great Gatsby\", \"F. Scott Fitzgerald\", 1925, \"978-3-16-148410-0\", 2)\n",
        "    book2 = Book(\"1984\", \"George Orwell\", 1949, \"978-0-451-52493-5\", 3)\n",
        "    library.add_book(book1)\n",
        "    library.add_book(book2)\n",
        "    print()\n",
        "\n",
        "    # Add Users\n",
        "    user1 = User(\"Alice\", 1001)\n",
        "    user2 = User(\"Bob\", 1002)\n",
        "    user1.register_user(library)\n",
        "    user2.register_user(library)\n",
        "    print()\n",
        "\n",
        "    # Issue Books\n",
        "    library.issue_book(user1, book1)  # Alice borrows \"The Great Gatsby\"\n",
        "    library.issue_book(user1, book1)  # Alice borrows \"The Great Gatsby\"\n",
        "    library.issue_book(user1, book1)  # Alice borrows \"The Great Gatsby\"\n",
        "    library.issue_book(user2, book2)  # Bob borrows \"1984\"\n",
        "    print()\n",
        "\n",
        "    # Return Books\n",
        "    library.return_book(user1, book1)  # Alice returns \"The Great Gatsby\"\n",
        "    print()\n",
        "\n",
        "    # Display Transaction History\n",
        "    library.display_transaction_history()\n",
        "    print()\n",
        "\n",
        "    # Search Books\n",
        "    library.search_books(\"author\", \"F. Scott Fitzgerald\")\n",
        "    print()\n",
        "\n",
        "    # Search Users\n",
        "    library.search_users(\"username\", \"Alice\")\n",
        "    print()\n",
        "\n",
        "    # Delete Books\n",
        "    library.delete_book(book1)\n",
        "    library.delete_book(book2)\n",
        "    print()\n",
        "\n",
        "    # Delete Users\n",
        "    library.delete_user(user1)\n",
        "    library.delete_user(user2)"
      ],
      "metadata": {
        "colab": {
          "base_uri": "https://localhost:8080/"
        },
        "id": "ta9De192NqF5",
        "outputId": "be2112cd-a78c-4bf1-be45-00edc725cedf"
      },
      "execution_count": 72,
      "outputs": [
        {
          "output_type": "stream",
          "name": "stdout",
          "text": [
            "The library system has been successfully created.\n",
            "\n",
            "Added book 'The Great Gatsby' 1925 written by F. Scott Fitzgerald. ISBN: 978-3-16-148410-0. Number of copies: 2.\n",
            "Added book '1984' 1949 written by George Orwell. ISBN: 978-0-451-52493-5. Number of copies: 3.\n",
            "The book 'The Great Gatsby' added to the library.\n",
            "The book '1984' added to the library.\n",
            "\n",
            "Added user Alice with library card number 1001\n",
            "Added user Bob with library card number 1002\n",
            "User 'Alice' added to the library system.\n",
            "User 'Bob' added to the library system.\n",
            "\n",
            "Book 'The Great Gatsby' issued to Alice.\n",
            "The number of copies of the book 'The Great Gatsby' has been changed to -1 and is now 1\n",
            "Book 'The Great Gatsby' issued to Alice.\n",
            "The number of copies of the book 'The Great Gatsby' has been changed to -1 and is now 0\n",
            "Book 'The Great Gatsby' is currently unavailable.\n",
            "Book '1984' issued to Bob.\n",
            "The number of copies of the book '1984' has been changed to -1 and is now 2\n",
            "\n",
            "Book 'The Great Gatsby' returned by Alice.\n",
            "The number of copies of the book 'The Great Gatsby' has been changed to 1 and is now 1\n",
            "\n",
            "Transaction History:\n",
            "Issued: The Great Gatsby by Alice\n",
            "Issued: The Great Gatsby by Alice\n",
            "Issued: 1984 by Bob\n",
            "Returned: The Great Gatsby by Alice\n",
            "\n",
            "Book search results for 'author' is 'F. Scott Fitzgerald':\n",
            "Title: The Great Gatsby, Author: F. Scott Fitzgerald, Year: 1925, ISBN: 978-3-16-148410-0, Copies: 1\n",
            "\n",
            "User search results for 'username' is 'Alice':\n",
            "Username: Alice, Library Card Number: 1001\n",
            "\n",
            "Book 'The Great Gatsby' with ISBN 978-3-16-148410-0 removed from the library.\n",
            "Book '1984' with ISBN 978-0-451-52493-5 removed from the library.\n",
            "\n",
            "User 'Alice' removed from the library system.\n",
            "User 'Bob' removed from the library system.\n"
          ]
        }
      ]
    },
    {
      "cell_type": "markdown",
      "metadata": {
        "id": "0c8zRbSIoBGl"
      },
      "source": [
        "## Problem 5*"
      ]
    },
    {
      "cell_type": "markdown",
      "metadata": {
        "id": "8ltdzRmOoBGl"
      },
      "source": [
        "Explain why list `b` changes after the execution of the following code:\n",
        "\n",
        "```python\n",
        "a = [1, 2, 3]\n",
        "b = a\n",
        "a[0] = 4\n",
        "print(b)\n",
        "```"
      ]
    },
    {
      "cell_type": "markdown",
      "metadata": {
        "id": "RxgnUfFPoBGl"
      },
      "source": [
        "In Python, variables are simply references to objects in memory. When we assign b = a, we create a new reference (b) to the same object pointed to by a.\n",
        "\n",
        "This behaviour is common to all mutable objects in Python (lists, dictionaries, sets). This behaviour is not observed for immutable objects (strings, tuples, numbers) because they cannot be modified once created.\n",
        "\n",
        "If we want to create an independent copy of the list, then we need to explicitly copy it: b = a.copy()."
      ]
    },
    {
      "cell_type": "code",
      "source": [
        "a = [1, 2, 3]\n",
        "b = a\n",
        "c = a.copy()\n",
        "a[0] = 4\n",
        "print(b)\n",
        "print(c)"
      ],
      "metadata": {
        "colab": {
          "base_uri": "https://localhost:8080/"
        },
        "id": "0yMPlXJVaiQu",
        "outputId": "49652d05-fcc4-483f-bc1b-b6c23a9616d3"
      },
      "execution_count": 73,
      "outputs": [
        {
          "output_type": "stream",
          "name": "stdout",
          "text": [
            "[4, 2, 3]\n",
            "[1, 2, 3]\n"
          ]
        }
      ]
    },
    {
      "cell_type": "markdown",
      "metadata": {
        "id": "TmXLkc_foBGl"
      },
      "source": [
        "## Problem 6*"
      ]
    },
    {
      "cell_type": "markdown",
      "metadata": {
        "id": "Gn0ibiVCoBGl"
      },
      "source": [
        "Let\n",
        "$$A = \\sum_{i=1}^{10000} \\frac{1}{i^2},\\quad B=\\sum_{i=10000}^{1} \\frac{1}{i^2}.$$\n",
        "Calculate the values of $A$ and $B$ and compare them. What do you observe? Explain why this happens. What is the best way to calculate the value of $\\sum\\limits_{i=1}^{10000} \\dfrac{1}{i^2}$?"
      ]
    },
    {
      "cell_type": "code",
      "execution_count": 74,
      "metadata": {
        "id": "3q93uGqFoBGl",
        "colab": {
          "base_uri": "https://localhost:8080/"
        },
        "outputId": "62d0d485-7b8c-4a60-9959-6108fb97f981"
      },
      "outputs": [
        {
          "output_type": "stream",
          "name": "stdout",
          "text": [
            "A = 1.6448340718480652\n",
            "B = 1.6448340718480596\n",
            "A - B = 5.551115123125783e-15\n"
          ]
        }
      ],
      "source": [
        "A, B = 0, 0\n",
        "for i in range (1, 10001):\n",
        "    A += 1 / (i**2)\n",
        "    B += 1 / ((10001 - i)**2)\n",
        "print(f\"A = {A}\\nB = {B}\\nA - B = {A - B}\")"
      ]
    },
    {
      "cell_type": "markdown",
      "source": [
        "We can see that the number A is greater than B. These two numbers are different because of an error in writing down the numbers. It is absolutely impossible to encode an infinite number of numbers, so we have to sacrifice accuracy and round the numbers to the nearest encoded number. For example, the number 1 will have an accuracy threshold around 1e-16, i.e. 1 == 1 + 1e-16. Let's check it in practice:\n",
        "\n",
        "\n"
      ],
      "metadata": {
        "id": "7NBDaa8iTckI"
      }
    },
    {
      "cell_type": "code",
      "source": [
        "1 == 1 + 1e-16"
      ],
      "metadata": {
        "colab": {
          "base_uri": "https://localhost:8080/"
        },
        "id": "8dIp82pqTpCh",
        "outputId": "3d2ef112-87e6-4f42-c09d-80d64a572b3e"
      },
      "execution_count": 75,
      "outputs": [
        {
          "output_type": "execute_result",
          "data": {
            "text/plain": [
              "True"
            ]
          },
          "metadata": {},
          "execution_count": 75
        }
      ]
    },
    {
      "cell_type": "markdown",
      "source": [
        "Using this identity that 1 == 1 + 1e-16 we can calculate that the accuracy of the number 1e20 will be somewhere around 10000, in fact it will be 8192, but this number will be enough for us to realise that the bigger the number, the less accurate it is. I.e. 1 had an accuracy of 1e-16, and 1e20 has an accuracy of 8192."
      ],
      "metadata": {
        "id": "sGQCGn3NVGpT"
      }
    },
    {
      "cell_type": "code",
      "source": [
        "1e20 == 1e20 + 8192"
      ],
      "metadata": {
        "colab": {
          "base_uri": "https://localhost:8080/"
        },
        "id": "HMyqiIhDUnaY",
        "outputId": "75e7c079-1b49-416b-8fea-c7c1868d65e1"
      },
      "execution_count": 76,
      "outputs": [
        {
          "output_type": "execute_result",
          "data": {
            "text/plain": [
              "True"
            ]
          },
          "metadata": {},
          "execution_count": 76
        }
      ]
    },
    {
      "cell_type": "markdown",
      "source": [
        "All this tells us that the sum B will be more accurate than the sum A, for the reason that when adding smaller numbers first, we lose less in accuracy, as we initially work with a large threshold of accuracy and gradually reduce it (because of the growth of numbers in the sum). And if we start summing with larger numbers, we immediately lower our accuracy threshold as far as possible (and it will only get worse).\n",
        "\n",
        "Answer: sum B is more accurate."
      ],
      "metadata": {
        "id": "UoqVUe_NW04a"
      }
    }
  ],
  "metadata": {
    "colab": {
      "provenance": []
    },
    "kernelspec": {
      "display_name": "Python 3",
      "language": "python",
      "name": "python3"
    },
    "language_info": {
      "codemirror_mode": {
        "name": "ipython",
        "version": 3
      },
      "file_extension": ".py",
      "mimetype": "text/x-python",
      "name": "python",
      "nbconvert_exporter": "python",
      "pygments_lexer": "ipython3",
      "version": "3.10.6"
    }
  },
  "nbformat": 4,
  "nbformat_minor": 0
}